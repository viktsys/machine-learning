{
  "nbformat": 4,
  "nbformat_minor": 0,
  "metadata": {
    "colab": {
      "provenance": [],
      "authorship_tag": "ABX9TyOtglkJbDnwVPRn+K5qsCPE",
      "include_colab_link": true
    },
    "kernelspec": {
      "name": "python3",
      "display_name": "Python 3"
    },
    "language_info": {
      "name": "python"
    }
  },
  "cells": [
    {
      "cell_type": "markdown",
      "metadata": {
        "id": "view-in-github",
        "colab_type": "text"
      },
      "source": [
        "<a href=\"https://colab.research.google.com/github/viktsys/machine-learning/blob/main/SKLearn%20-%20LinearSVC.ipynb\" target=\"_parent\"><img src=\"https://colab.research.google.com/assets/colab-badge.svg\" alt=\"Open In Colab\"/></a>"
      ]
    },
    {
      "cell_type": "markdown",
      "source": [
        "# SKLearn \n",
        "\n",
        "É uma biblioteca de Machine Learning (Aprendizado de máquina) para a linguagem Python, implementa diversos algoritmos de classificação, regressão e clusterização.\n",
        "\n",
        "Esse notebook tem como foco em explorar as possibilidades de predição utilizando o algoritmo de Linear Support Vector (LVC)\n"
      ],
      "metadata": {
        "id": "t6ZIMci99KBT"
      }
    },
    {
      "cell_type": "markdown",
      "source": [
        "## Explicando os dados\n",
        "\n",
        "Nosso dataset será composto de dados que representam caracteristicas de animais. Eles podem ser valorem que variam entre 0 e 1, representando traços como:\n",
        "  - Pelo longo?\n",
        "  - Membros curtos?\n",
        "  - Late?"
      ],
      "metadata": {
        "id": "UoUYzAlRBSah"
      }
    },
    {
      "cell_type": "code",
      "source": [
        "# Porcos\n",
        "pig1 = [0, 1, 0]\n",
        "pig2 = [0, 1, 1]\n",
        "pig3 = [1, 1, 0]\n",
        "\n",
        "# Cães \n",
        "dog1 = [0, 1, 1]\n",
        "dog2 = [1, 0, 1]\n",
        "dog3 = [1, 1, 1]\n",
        "\n",
        "# Our dataset, consisting of a list of features from pigs and dogs\n",
        "dataset = [\n",
        "    pig1, pig2, pig3,\n",
        "    dog1, dog2, dog3\n",
        "]\n",
        "\n",
        "# Our base classification (0 => Dog / 1 => Pig)\n",
        "classification = [1, 1, 1, 0, 0, 0]\n"
      ],
      "metadata": {
        "id": "cWvXkXas9Q6C"
      },
      "execution_count": null,
      "outputs": []
    },
    {
      "cell_type": "markdown",
      "source": [
        "Para treinar nosso modelo usando Linear Support Vector Classification, basta somente indicar nosso conjunto de dados e sua classificação."
      ],
      "metadata": {
        "id": "Kjz59fp_BR-A"
      }
    },
    {
      "cell_type": "code",
      "source": [
        "from sklearn.svm import LinearSVC\n",
        "\n",
        "model = LinearSVC()\n",
        "model.fit(dataset, classification)\n"
      ],
      "metadata": {
        "colab": {
          "base_uri": "https://localhost:8080/"
        },
        "id": "3g5AseZK9oer",
        "outputId": "b5516ff0-f694-402b-b3be-e12e6ce88128"
      },
      "execution_count": null,
      "outputs": [
        {
          "output_type": "execute_result",
          "data": {
            "text/plain": [
              "LinearSVC()"
            ]
          },
          "metadata": {},
          "execution_count": 40
        }
      ]
    },
    {
      "cell_type": "markdown",
      "source": [
        "Vamos tentar descobrir um animal mistérioso?"
      ],
      "metadata": {
        "id": "H66-06joBRR5"
      }
    },
    {
      "cell_type": "code",
      "source": [
        "# Tem pelo longo? - Sim\n",
        "# Membros curtos? - Sim\n",
        "# Late?           - Sim\n",
        "mistery = [1, 1, 1]\n",
        "mistery_dont_bark = [1, 1, 0]\n",
        "\n",
        "prediction = model.predict([mistery])\n",
        "if prediction:\n",
        "  print('> Is a pig!')\n",
        "else:\n",
        "  print('> Is a dog!')\n",
        "\n",
        "prediction = model.predict([mistery_dont_bark])\n",
        "if prediction:\n",
        "  print('> Is a pig!')\n",
        "else:\n",
        "  print('> Is a dog!')"
      ],
      "metadata": {
        "colab": {
          "base_uri": "https://localhost:8080/"
        },
        "id": "E3wOYQ1r_OH-",
        "outputId": "63767de2-5925-4d37-e212-14640eb5bed1"
      },
      "execution_count": null,
      "outputs": [
        {
          "output_type": "stream",
          "name": "stdout",
          "text": [
            "> Is a dog!\n",
            "> Is a pig!\n"
          ]
        }
      ]
    },
    {
      "cell_type": "markdown",
      "source": [
        "Interessante, ambos são bem parecidos em características, no entanto, divergindo sobre uma característica que é se o animal late."
      ],
      "metadata": {
        "id": "cqV5vXtJBgCq"
      }
    },
    {
      "cell_type": "markdown",
      "source": [
        "Beleza, mas como a gente descobre a precisão esse modelo?\n",
        "Pra isso o SkLearn disponibiliza o `accuracy_score`"
      ],
      "metadata": {
        "id": "2FIf-nv4CAvt"
      }
    },
    {
      "cell_type": "code",
      "source": [
        "from sklearn.metrics import accuracy_score\n",
        "\n",
        "mistery1 = [1,1,1]        # Dog\n",
        "mistery2 = [1,1,0]        # Pig\n",
        "mistery3 = [0,1,1]        # Pig\n",
        "\n",
        "expected = [False, True, True]\n",
        "\n",
        "test_animals = [mistery1, mistery2, mistery3]\n",
        "predictions = model.predict(test_animals)\n",
        "accuracy = accuracy_score(expected, predictions) * 100\n",
        "\n",
        "print('Accuracy is {}'.format(round(accuracy, 2)))"
      ],
      "metadata": {
        "colab": {
          "base_uri": "https://localhost:8080/"
        },
        "id": "Fe34FObbCN02",
        "outputId": "cbbb5931-2a73-467a-ca7a-4e168c2f455c"
      },
      "execution_count": null,
      "outputs": [
        {
          "output_type": "stream",
          "name": "stdout",
          "text": [
            "Accuracy is 66.67\n"
          ]
        }
      ]
    }
  ]
}